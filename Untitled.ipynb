{
 "cells": [
  {
   "cell_type": "code",
   "execution_count": 1,
   "metadata": {
    "collapsed": true
   },
   "outputs": [],
   "source": [
    "import matplotlib.pyplot as plt\n",
    "import numpy as np\n",
    "import pandas as pd\n",
    "import pprint"
   ]
  },
  {
   "cell_type": "code",
   "execution_count": 2,
   "metadata": {
    "collapsed": true
   },
   "outputs": [],
   "source": [
    "data_file = 'D:\\Documents\\check_book.csv'"
   ]
  },
  {
   "cell_type": "code",
   "execution_count": 3,
   "metadata": {
    "collapsed": true
   },
   "outputs": [],
   "source": [
    "df = pd.read_csv(data_file)\n",
    "df['category'] = df['category'].str.lower() #convert category to all lower"
   ]
  },
  {
   "cell_type": "code",
   "execution_count": 4,
   "metadata": {
    "collapsed": true
   },
   "outputs": [],
   "source": [
    "category = df['category'] #select single series in dataframe\n",
    "\n",
    "cat_pay = df[['category', 'payment']] #select multiple categories, feed a list"
   ]
  },
  {
   "cell_type": "code",
   "execution_count": 5,
   "metadata": {
    "collapsed": true
   },
   "outputs": [],
   "source": [
    "# payments over 100\n",
    "pay_data = df[df.payment >= 100]\n",
    "\n",
    "# payment over 100 & groceries\n",
    "groc_data_desc = df[df.category == 'Groceries'].describe() #describe groceries only\n",
    "pay_groc_sel = df[(df.payment >= 100) & (df.category == 'Groceries')]\n",
    "\n",
    "# set index\n",
    "new_index = df.set_index('category')"
   ]
  },
  {
   "cell_type": "code",
   "execution_count": 6,
   "metadata": {},
   "outputs": [
    {
     "name": "stdout",
     "output_type": "stream",
     "text": [
      "category\n",
      "mortgage                      7461.25\n",
      "child expense                 4720.00\n",
      "groceries                     2648.14\n",
      "automotive expense            2099.35\n",
      "credit card                   1616.02\n",
      "utilities                     1542.08\n",
      "general merchandise           1006.03\n",
      "telephone services             665.45\n",
      "health expense                 653.78\n",
      "solar costs                    602.36\n",
      "college contribution           500.00\n",
      "insurance                      497.53\n",
      "eliz business contribution     480.00\n",
      "restaurants or dining          359.76\n",
      "gas                            341.01\n",
      "pet care                       319.42\n",
      "to savings                     300.00\n",
      "protection contribution        300.00\n",
      "retirement                     300.00\n",
      "college fund                   300.00\n",
      "home expense                   268.73\n",
      "education                      257.07\n",
      "house fund                     250.00\n",
      "atm                            102.99\n",
      "kids activities                100.00\n",
      "pest control                    95.00\n",
      "alcoholic drink                 67.53\n",
      "transfers                       60.00\n",
      "entertainment                   46.95\n",
      "child expenses                  35.00\n",
      "family fun                      33.99\n",
      "alcohol                         29.08\n",
      "kung fu expense                 29.00\n",
      "video games                     20.18\n",
      "coffee                          11.39\n",
      "alcphol                         10.89\n",
      "general merchandice              2.60\n",
      "from savings                      NaN\n",
      "house funds                       NaN\n",
      "other income                      NaN\n",
      "paychecks salary                  NaN\n",
      "powerbill surplus                 NaN\n",
      "Name: payment, dtype: float64\n"
     ]
    }
   ],
   "source": [
    "# grouping\n",
    "by_category = df.groupby('category')\n",
    "by_cat_with_payment = df['payment'].groupby(df['category'])\n",
    "count_cat = by_category.size()\n",
    "describe_cat_payment = by_cat_with_payment.describe()\n",
    "sum_cat_payment = by_cat_with_payment.sum().sort_values(ascending=False)\n",
    "print(sum_cat_payment)"
   ]
  },
  {
   "cell_type": "code",
   "execution_count": null,
   "metadata": {
    "collapsed": true
   },
   "outputs": [],
   "source": []
  }
 ],
 "metadata": {
  "kernelspec": {
   "display_name": "Python 3",
   "language": "python",
   "name": "python3"
  },
  "language_info": {
   "codemirror_mode": {
    "name": "ipython",
    "version": 3
   },
   "file_extension": ".py",
   "mimetype": "text/x-python",
   "name": "python",
   "nbconvert_exporter": "python",
   "pygments_lexer": "ipython3",
   "version": "3.6.2"
  }
 },
 "nbformat": 4,
 "nbformat_minor": 2
}
